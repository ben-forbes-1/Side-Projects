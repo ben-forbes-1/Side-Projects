{
 "cells": [
  {
   "cell_type": "code",
   "execution_count": 17,
   "metadata": {},
   "outputs": [
    {
     "name": "stdout",
     "output_type": "stream",
     "text": [
      "Defaulting to user installation because normal site-packages is not writeable\n",
      "Collecting plotly\n",
      "  Downloading plotly-5.24.1-py3-none-any.whl (19.1 MB)\n",
      "\u001b[K     |████████████████████████████████| 19.1 MB 12.5 MB/s eta 0:00:01\n",
      "\u001b[?25hRequirement already satisfied: packaging in /Users/Benforbes/Library/Python/3.9/lib/python/site-packages (from plotly) (24.2)\n",
      "Collecting tenacity>=6.2.0\n",
      "  Downloading tenacity-9.0.0-py3-none-any.whl (28 kB)\n",
      "Installing collected packages: tenacity, plotly\n",
      "Successfully installed plotly-5.24.1 tenacity-9.0.0\n",
      "\u001b[33mWARNING: You are using pip version 21.2.4; however, version 24.3.1 is available.\n",
      "You should consider upgrading via the '/Library/Developer/CommandLineTools/usr/bin/python3 -m pip install --upgrade pip' command.\u001b[0m\n",
      "Note: you may need to restart the kernel to use updated packages.\n"
     ]
    }
   ],
   "source": [
    "%pip install plotly"
   ]
  },
  {
   "cell_type": "code",
   "execution_count": 30,
   "metadata": {},
   "outputs": [],
   "source": [
    "import numpy as np\n",
    "import matplotlib.pyplot as plt\n",
    "import yfinance as yf\n",
    "import pandas as pd\n",
    "from scipy.optimize import minimize\n",
    "from mpl_toolkits.mplot3d import Axes3D\n",
    "from scipy.interpolate import griddata\n",
    "import plotly.graph_objects as go\n",
    "from scipy.stats import norm\n",
    "from scipy.ndimage import gaussian_filter\n",
    "\n"
   ]
  },
  {
   "cell_type": "code",
   "execution_count": 3,
   "metadata": {},
   "outputs": [],
   "source": [
    "def sabr_vol(alpha, beta, rho, nu, F, K, T):\n",
    "    X = K\n",
    "    if F == K:\n",
    "        numer1 = (((1 - beta)**2)/24)*alpha*alpha/(F**(2 - 2*beta))\n",
    "        output = alpha*(1 + (numer1 + ((nu*alpha*beta)/F**(1-beta) + (2-3*rho*rho)*nu*nu/24)*T)/(1+T))\n",
    "    else:\n",
    "        z = nu/alpha*(F*X)**((1-beta)/2)*np.log(F/X)\n",
    "        x = np.log((np.sqrt(1 - 2*rho*z + z*z) + z - rho)/(1 - rho))\n",
    "        numer1 = (((1 - beta)**2)/24)*((alpha*alpha)/((F*X)**(1-beta)))\n",
    "        numer2 = 1 + (((1 - beta)**2/4)*np.log(F/X)*np.log(F/X)) + (((1 - beta)**4/1920)*np.log(F/X)*np.log(F/X)*np.log(F/X)*np.log(F/X))\n",
    "        output = alpha*(z/x)*(1 + (numer1 + numer2*T)/(1+T))\n",
    "    return output\n",
    "\n",
    "def calibration_error(params, F, K, T, vol):\n",
    "    alpha, beta, rho, nu = params\n",
    "    vol_hat = sabr_vol(alpha, beta, rho, nu, F, K, T)\n",
    "    return np.sum((vol - vol_hat)**2)"
   ]
  },
  {
   "cell_type": "code",
   "execution_count": null,
   "metadata": {},
   "outputs": [],
   "source": [
    "ticker = input(\"Enter the ticker of the stock you want to analyze: \").upper()\n",
    "# try:\n",
    "stock = yf.Ticker(ticker)\n",
    "expirations = stock.options\n",
    "if not expirations:\n",
    "    raise ValueError(\"No options available for this stock\")\n",
    "else:\n",
    "    print(\"Available expirations: \", expirations)\n",
    "    chosen_expiration = input(\"Enter the expiration date you want to analyze: \")\n",
    "    if chosen_expiration not in expirations:\n",
    "        raise ValueError(\"Invalid expiration date\")\n",
    "    options_chain = stock.option_chain(chosen_expiration)\n",
    "    calls = options_chain.calls\n",
    "    puts = options_chain.puts\n",
    "    calls = calls[calls[\"volume\"] > 0]\n",
    "    puts = puts[puts[\"volume\"] > 0]\n",
    "    calls = calls[calls[\"openInterest\"] > 0]\n",
    "    puts = puts[puts[\"openInterest\"] > 0]\n",
    "    calls = calls[calls[\"strike\"] > calls[\"lastPrice\"]]\n",
    "    puts = puts[puts[\"strike\"] < puts[\"lastPrice\"]]\n",
    "    calls = calls.sort_values(by=\"strike\")\n",
    "    puts = puts.sort_values(by=\"strike\")\n",
    "    calls = calls.reset_index(drop=True)\n",
    "    puts = puts.reset_index(drop=True)\n",
    "    F = stock.history(period=\"1d\")[\"Close\"][-1]\n",
    "    K = calls[\"strike\"]\n",
    "    T = (pd.to_datetime(chosen_expiration) - pd.Timestamp.today()).days/365\n",
    "    call_vol = calls[\"impliedVolatility\"]\n",
    "    put_vol = puts[\"impliedVolatility\"]\n",
    "    K = K.to_numpy()\n",
    "    call_vol = call_vol.to_numpy()\n",
    "    put_vol = put_vol.to_numpy()\n",
    "    call_params = minimize(calibration_error, [0.1, 0.5, 0, 0.1], args=(F, K, T, call_vol)).x\n",
    "    put_params = minimize(calibration_error, [0.1, 0.5, 0, 0.1], args=(F, K, T, put_vol)).x\n",
    "    K = np.append(K, F)\n",
    "    call_vol = np.append(call_vol, sabr_vol(call_params[0], call_params[1], call_params[2], call_params[3], F, F, T))\n",
    "    put_vol = np.append(put_vol, sabr_vol(put_params[0], put_params[1], put_params[2], put_params[3], F, F, T))\n",
    "    plt.plot(K, call_vol, label=\"Call Volatility\")\n",
    "    plt.plot(K, put_vol, label=\"Put Volatility\")\n",
    "    plt.xlabel(\"Strike Price\")\n",
    "    plt.ylabel(\"Implied Volatility\")\n",
    "    plt.legend()\n",
    "    plt.show()\n",
    "# except:\n",
    "\n"
   ]
  },
  {
   "cell_type": "code",
   "execution_count": 43,
   "metadata": {},
   "outputs": [
    {
     "name": "stdout",
     "output_type": "stream",
     "text": [
      "Available expirations:  ('2025-01-03', '2025-01-10', '2025-01-17', '2025-01-24', '2025-01-31', '2025-02-07', '2025-02-21', '2025-03-21', '2025-04-17', '2025-05-16', '2025-06-20', '2025-07-18', '2025-08-15', '2025-09-19', '2025-12-19', '2026-01-16', '2026-06-18', '2026-09-18', '2026-12-18', '2027-01-15')\n"
     ]
    }
   ],
   "source": [
    "# Plot vol surface\n",
    "\n",
    "def calculate_time_to_expiration(expiration_date):\n",
    "    return (pd.to_datetime(expiration_date) - pd.Timestamp.today()).days / 365.0\n",
    "\n",
    "# Function to calculate delta\n",
    "def calculate_delta(F, K, T, r, sigma, option_type=\"call\"):\n",
    "    d1 = (np.log(F / K) + (r + 0.5 * sigma**2) * T) / (sigma * np.sqrt(T))\n",
    "    if option_type == \"call\":\n",
    "        return norm.cdf(d1)  # Call delta\n",
    "    elif option_type == \"put\":\n",
    "        return norm.cdf(d1) - 1  # Put delta\n",
    "\n",
    "\n",
    "ticker = input(\"Enter the ticker of the stock you want to analyze: \").upper()\n",
    "# try:\n",
    "stock = yf.Ticker(ticker)\n",
    "expirations = stock.options\n",
    "if not expirations:\n",
    "    raise ValueError(\"No options available for this stock\")\n",
    "else:\n",
    "    print(\"Available expirations: \", expirations)\n",
    "\n",
    "vol_data = []\n",
    "strike_data = []\n",
    "time_data = []\n",
    "\n",
    "F = stock.history(period=\"1d\")[\"Close\"].iloc[-1]\n",
    "\n",
    "for expiration in expirations:\n",
    "    options_chain = stock.option_chain(expiration)\n",
    "    calls = options_chain.calls\n",
    "    puts = options_chain.puts\n",
    "\n",
    "    # Filter out rows with missing data or invalid strikes\n",
    "    calls = calls[(calls[\"volume\"] > 0) & (calls[\"openInterest\"] > 0)]\n",
    "    puts = puts[(puts[\"volume\"] > 0) & (puts[\"openInterest\"] > 0)]\n",
    "\n",
    "    # Combine calls and puts\n",
    "    options = pd.concat([calls, puts])\n",
    "    options = options[options[\"impliedVolatility\"] > 0.001]\n",
    "\n",
    "    if not options.empty:\n",
    "        strikes = options[\"strike\"].to_numpy()\n",
    "        volatilities = options[\"impliedVolatility\"].to_numpy()\n",
    "        time_to_exp = np.full_like(strikes, calculate_time_to_expiration(expiration))\n",
    "\n",
    "        # Append to data\n",
    "        strike_data.extend(strikes)\n",
    "        vol_data.extend(volatilities)\n",
    "        time_data.extend(time_to_exp)\n",
    "\n",
    "# Convert to numpy arrays\n",
    "strike_data = np.array(strike_data) / F  # Normalize strikes by current stock price\n",
    "vol_data = np.array(vol_data)\n",
    "time_data = np.array(time_data)\n",
    "\n",
    "# Create a grid for the surface\n",
    "strike_range = np.linspace(strike_data.min(), strike_data.max(), 50)\n",
    "time_range = np.linspace(time_data.min(), time_data.max(), 50)\n",
    "strike_grid, time_grid = np.meshgrid(strike_range, time_range)\n",
    "\n",
    "# Interpolate volatilities on the grid\n",
    "vol_surface = griddata(\n",
    "    (strike_data, time_data), vol_data, (strike_grid, time_grid), method='linear'\n",
    ")\n",
    "\n",
    "vol_surface = gaussian_filter(vol_surface, sigma=1.5)  # Smooth with sigma = 2\n",
    "\n",
    "\n",
    "# Plot the volatility surface using Plotly\n",
    "fig = go.Figure(data=[\n",
    "    go.Surface(\n",
    "        z=vol_surface,\n",
    "        x=strike_grid,\n",
    "        y=time_grid,\n",
    "        colorscale='Viridis',\n",
    "        colorbar=dict(title=\"Volatility\")\n",
    "    )\n",
    "])\n",
    "\n",
    "# # Add a vertical line for the current stock price\n",
    "# fig.add_trace(\n",
    "#     go.Scatter3d(\n",
    "#         x=[F] * len(time_range),\n",
    "#         y=time_range,\n",
    "#         z=[vol_surface[time_idx][np.argmin(np.abs(strike_range - F))]\n",
    "#            for time_idx in range(len(time_range))],\n",
    "#         mode='lines',\n",
    "#         line=dict(color='red', width=4),\n",
    "#         name=f\"Stock Price: {F}\"\n",
    "#     )\n",
    "# )\n",
    "\n",
    "# Add labels and title\n",
    "fig.update_layout(\n",
    "    title=f'Interactive Volatility Surface for {ticker}',\n",
    "    scene=dict(\n",
    "        xaxis_title='Moneyness',\n",
    "        yaxis_title='Time to Expiration (Years)',\n",
    "        zaxis_title='Implied Volatility'\n",
    "    )\n",
    ")\n",
    "\n",
    "# Save the plot as an HTML file\n",
    "fig.write_html(\"volatility_surface.html\")\n"
   ]
  },
  {
   "cell_type": "code",
   "execution_count": 40,
   "metadata": {},
   "outputs": [
    {
     "data": {
      "text/plain": [
       "np.float64(1.7969810849387855)"
      ]
     },
     "execution_count": 40,
     "metadata": {},
     "output_type": "execute_result"
    }
   ],
   "source": [
    "strike_data.max()"
   ]
  },
  {
   "cell_type": "code",
   "execution_count": null,
   "metadata": {},
   "outputs": [],
   "source": []
  }
 ],
 "metadata": {
  "kernelspec": {
   "display_name": "Python 3",
   "language": "python",
   "name": "python3"
  },
  "language_info": {
   "codemirror_mode": {
    "name": "ipython",
    "version": 3
   },
   "file_extension": ".py",
   "mimetype": "text/x-python",
   "name": "python",
   "nbconvert_exporter": "python",
   "pygments_lexer": "ipython3",
   "version": "3.9.6"
  }
 },
 "nbformat": 4,
 "nbformat_minor": 2
}
